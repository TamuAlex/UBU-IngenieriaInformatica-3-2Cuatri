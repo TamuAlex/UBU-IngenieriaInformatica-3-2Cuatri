{
 "cells": [
  {
   "cell_type": "markdown",
   "metadata": {},
   "source": [
    "# Algoritmia\n",
    "## Práctica 4\n",
    "El objetivo de esta práctica es trabajar con grafos.\n",
    "Se pide la implementación de las funciones que aparecen a continuación. \n",
    "\n",
    "En el cuerpo de cada función hay una instrucción \"pass\", se debe sustituir por la implementación adecuada. \n",
    "\n",
    "Para cada clase o función que se pide se proporcionan algunos tests. Las implementaciones deberían superar estos tests."
   ]
  },
  {
   "cell_type": "markdown",
   "metadata": {},
   "source": [
    "## Alumno: Alejandro Ortega Martinez"
   ]
  },
  {
   "cell_type": "markdown",
   "metadata": {},
   "source": [
    "## Preámbulo"
   ]
  },
  {
   "cell_type": "code",
   "execution_count": 1,
   "metadata": {},
   "outputs": [],
   "source": [
    "# Importaciones\n",
    "import unittest\n",
    "import networkx as nx\n",
    "%matplotlib inline\n",
    "import matplotlib.pyplot as plt"
   ]
  },
  {
   "cell_type": "markdown",
   "metadata": {},
   "source": [
    "## Implementa el algoritmo de la mochila"
   ]
  },
  {
   "cell_type": "code",
   "execution_count": 2,
   "metadata": {},
   "outputs": [],
   "source": [
    "def algoritmo_mochila_voraz(objetos, peso_soportado):\n",
    "    \"\"\"\n",
    "    Se recibe un diccionario de objetos, cada elemento del diccionario es una tupla (peso, valor)\n",
    "    y una variable numérica, peso_soportado.\n",
    "    Seleccionar las claves de los objetos cuya suma del peso no sea mayor que el peso soportado y se \n",
    "    maximice el valor usando un algoritmo voraz. Los objetos no pueden partirse.\n",
    "    \"\"\"\n",
    "    peso_introducido = 0\n",
    "    objetos_intr = []\n",
    "    objetos_ord = dict(sorted(objetos.items(), key = lambda ele: ele[1][0] / ele[1][1]))\n",
    "    indice = 0\n",
    "    \n",
    "    for objeto in objetos_ord.items():\n",
    "        peso = objeto[1][0]\n",
    "\n",
    "        if (peso_introducido + peso) <= peso_soportado:\n",
    "            peso_introducido += peso\n",
    "            objetos_intr.append(objeto[0])\n",
    "   \n",
    "    return objetos_intr"
   ]
  },
  {
   "cell_type": "code",
   "execution_count": 3,
   "metadata": {},
   "outputs": [],
   "source": [
    "class TestMochilaVoraz(unittest.TestCase):\n",
    "    \n",
    "    def setUp(self):\n",
    "        self.casos_prueba = (\n",
    "            ([i for i in range(10, 60, 10)], [20, 30, 66, 40, 60], 100, 100, 156),\n",
    "            ([i for i in range(10, 60, 10)], [20, 30, 66, 40, 60], 1000, 150, 216),\n",
    "            ([i for i in range(10, 60, 10)], [100, 200, 300, 400, 500], 5, 0, 0),\n",
    "            ([i for i in range(100,210, 20)], [i for i in range (10, 120, 20)], 500, 500, 230)\n",
    "        )\n",
    "        \n",
    "    def test_1(self):        \n",
    "        def create_dataset(pesos, valores):\n",
    "            return dict(enumerate(map(lambda x,y: (x,y), pesos, valores)))\n",
    "\n",
    "\n",
    "        def calcula_peso_y_valor(objetos, candidatos):\n",
    "            candidatos = list(candidatos)\n",
    "            peso = sum([objetos[x][0] for x in candidatos])\n",
    "            valor = sum([objetos[x][1] for x in candidatos])\n",
    "            return peso, valor\n",
    "\n",
    "\n",
    "        for pesos, valores, peso_maximo, peso, valor in self.casos_prueba:\n",
    "            objetos = create_dataset(pesos, valores)\n",
    "            candidatos = algoritmo_mochila_voraz(objetos, peso_maximo)\n",
    "            peso_, valor_ = calcula_peso_y_valor(objetos, candidatos)\n",
    "            assert peso == peso_\n",
    "            assert valor == valor_  "
   ]
  },
  {
   "cell_type": "markdown",
   "metadata": {},
   "source": [
    "## Representación de grafos\n",
    "Los grafos se representan como diccionarios, donde las claves del diccionario son los nodos del grafo.\n",
    "\n",
    "Los valores del diccionario son a su vez diccionarios que asocian a cada vecino del nodo el peso del arco."
   ]
  },
  {
   "cell_type": "code",
   "execution_count": 4,
   "metadata": {},
   "outputs": [
    {
     "name": "stdout",
     "output_type": "stream",
     "text": [
      "{'a': {'b': 1, 'c': 2}, 'b': {'a': 3, 'd': 6}, 'c': {'a': 5, 'b': 2}, 'd': {}}\n"
     ]
    }
   ],
   "source": [
    "# Ejemplo de grafo\n",
    "def grafo_de_ejemplo():\n",
    "    return {\n",
    "        'a': {'b': 1, 'c': 2},\n",
    "        'b': {'a': 3, 'd': 6},\n",
    "        'c': {'a': 5, 'b': 2},\n",
    "        'd': {}\n",
    "    }\n",
    "\n",
    "\n",
    "print(grafo_de_ejemplo())"
   ]
  },
  {
   "cell_type": "markdown",
   "metadata": {},
   "source": [
    "## Dibujo de grafos.\n",
    "\n",
    "Para dibujar grafos usamos [NetworkX](https://networkx.github.io/). Se podría usar este paquete para almacenar los grafos, pero en esta práctica hay que trabajar con la representación basada en diccionarios."
   ]
  },
  {
   "cell_type": "markdown",
   "metadata": {},
   "source": [
    "### Función `dibuja_grafo`"
   ]
  },
  {
   "cell_type": "code",
   "execution_count": 5,
   "metadata": {},
   "outputs": [],
   "source": [
    "def dibuja_grafo(grafo, dirigido=True, coordenadas=None):\n",
    "    \"\"\"\n",
    "    Dibuja un grafo, dirigido o no.\n",
    "    coordenadas es un diccioario que asigna a cada noso su posición.\n",
    "    \"\"\"\n",
    "    nxg = nx.DiGraph() if dirigido else nx.Graph()\n",
    "    for nodo, adyacentes in grafo.items():\n",
    "        nxg.add_node(nodo)\n",
    "        for vecino, peso in adyacentes.items():\n",
    "            nxg.add_edge(nodo, vecino, peso=peso)\n",
    "    nx.draw(nxg, with_labels=True, node_size=1000, pos=coordenadas)\n",
    "    plt.show()"
   ]
  },
  {
   "cell_type": "code",
   "execution_count": 6,
   "metadata": {},
   "outputs": [
    {
     "data": {
      "image/png": "[encoded data removed]",
      "text/plain": [
       "<Figure size 432x288 with 1 Axes>"
      ]
     },
     "metadata": {},
     "output_type": "display_data"
    }
   ],
   "source": [
    "dibuja_grafo(grafo_de_ejemplo())"
   ]
  },
  {
   "cell_type": "markdown",
   "metadata": {},
   "source": [
    "## Operaciones básicas de consulta\n",
    "Algunas operaciones básicas sobre grafos\n"
   ]
  },
  {
   "cell_type": "code",
   "execution_count": 7,
   "metadata": {},
   "outputs": [],
   "source": [
    "def numero_nodos(grafo):\n",
    "    \"\"\"Número de nodos en el grafo\"\"\"\n",
    "\n",
    "    conjunto_nodos = set()\n",
    "    for clave in grafo.keys():\n",
    "        conjunto_nodos.add(clave)\n",
    "        for clave2 in grafo[clave].keys():\n",
    "            conjunto_nodos.add(clave2)\n",
    "    return len(conjunto_nodos)\n",
    "\n",
    "\n",
    "def numero_arcos(grafo):\n",
    "    \"\"\"Número de arcos en el grafo\"\"\"\n",
    "    contador = 0\n",
    "    for nodo in grafo.keys():\n",
    "        contador += len(grafo.get(nodo))\n",
    "    \n",
    "    return contador\n",
    "\n",
    "\n",
    "def peso_total(grafo):\n",
    "    \"\"\"Suma de los pesos de los arcos del grafo\"\"\"\n",
    "    \n",
    "    contador = 0\n",
    "    \n",
    "    for nodo in grafo.keys():\n",
    "        for conexion in grafo.get(nodo).values():\n",
    "            contador += conexion\n",
    "    return contador\n",
    "\n",
    "\n",
    "def arco(grafo, origen, destino):\n",
    "    \"\"\"\n",
    "    Si hay un arco de origen a destino, devuelve su peso. \n",
    "    Si no hay, devuelve None.\n",
    "    \"\"\"\n",
    "\n",
    "    caminos = grafo.get(origen)\n",
    "    if caminos != None and caminos.get(destino) != None:\n",
    "        return caminos.get(destino)\n",
    "    return None\n",
    "         \n",
    "#     if destino in grafo.get(origen):\n",
    "#         return grafo.get(origen).get(destino)\n",
    "#     else:\n",
    "#         return None\n",
    "    \n",
    "#     pass\n",
    "\n",
    "\n"
   ]
  },
  {
   "cell_type": "markdown",
   "metadata": {},
   "source": [
    "### Tests para las operaciones básicas"
   ]
  },
  {
   "cell_type": "code",
   "execution_count": 8,
   "metadata": {},
   "outputs": [],
   "source": [
    "class TestOperacionesBasicas(unittest.TestCase):\n",
    "    \n",
    "    def tests_grafo_de_ejemplo(self):\n",
    "        g = grafo_de_ejemplo()\n",
    "        \n",
    "        self.assertEqual(numero_nodos(g), 4)\n",
    "        self.assertEqual(numero_arcos(g), 6)\n",
    "        self.assertEqual(peso_total(g), 19)\n",
    "        \n",
    "        self.assertEqual(arco(g, 'a', 'b'), 1)\n",
    "        self.assertEqual(arco(g, 'b', 'a'), 3)        \n",
    "        self.assertEqual(arco(g, 'b', 'd'), 6)        \n",
    "        self.assertEqual(arco(g, 'd', 'b'), None)        \n",
    "        self.assertEqual(arco(g, 'x', 'y'), None)"
   ]
  },
  {
   "cell_type": "markdown",
   "metadata": {},
   "source": [
    "## Operaciones de modificación\n",
    "Operaciones para modificar el grafo"
   ]
  },
  {
   "cell_type": "code",
   "execution_count": 9,
   "metadata": {},
   "outputs": [],
   "source": [
    "def inserta_nodo(grafo, nodo):\n",
    "    \"\"\"\n",
    "    Inserta el nodo en el grafo.\n",
    "    Si ya estaba, no se modifica.\n",
    "    Devuelve el propio grafo.\"\"\"\n",
    "\n",
    "    if grafo.get(nodo) == None:    \n",
    "        grafo[nodo] = {}\n",
    "    \n",
    "    return grafo\n",
    "\n",
    "def inserta_arco(grafo, origen, destino, peso=1):\n",
    "    \"\"\"\n",
    "    Inserta el arco en el grafo.\n",
    "    Si ya estaba se actualiza el peso.\n",
    "    Devuelve el propio grafo.\n",
    "    \"\"\"\n",
    "    if grafo.get(origen) == None:\n",
    "        inserta_nodo(grafo,origen)\n",
    "        \n",
    "    grafo.get(origen)[destino] = peso\n",
    "    \n",
    "    return grafo"
   ]
  },
  {
   "cell_type": "markdown",
   "metadata": {},
   "source": [
    "### Tests para las operaciones de modificación"
   ]
  },
  {
   "cell_type": "code",
   "execution_count": 10,
   "metadata": {},
   "outputs": [],
   "source": [
    "class TestOperacionesModificacion(unittest.TestCase):\n",
    "    \n",
    "    def tests_grafo_de_ejemplo(self):\n",
    "        g = grafo_de_ejemplo()\n",
    "        \n",
    "        self.assertEqual(numero_nodos(g), 4)\n",
    "        self.assertEqual(numero_arcos(g), 6)\n",
    "        self.assertEqual(peso_total(g), 19)\n",
    "        \n",
    "        inserta_nodo(inserta_nodo(g, 'd'), 'e')\n",
    "        \n",
    "        self.assertEqual(numero_nodos(g), 5)\n",
    "        self.assertEqual(numero_arcos(g), 6)\n",
    "        self.assertEqual(peso_total(g), 19) \n",
    "        \n",
    "        inserta_arco(inserta_arco(g, 'a', 'b', 7), 'd', 'c', 4)\n",
    "        \n",
    "        self.assertEqual(numero_nodos(g), 5)\n",
    "        self.assertEqual(numero_arcos(g), 7)\n",
    "        self.assertEqual(peso_total(g), 29) \n",
    "\n",
    "        inserta_arco(inserta_arco(g, 'f', 'g', 4), 'g', 'f', 3)\n",
    "        \n",
    "        self.assertEqual(numero_nodos(g), 7)\n",
    "        self.assertEqual(numero_arcos(g), 9)\n",
    "        self.assertEqual(peso_total(g), 36)           "
   ]
  },
  {
   "cell_type": "markdown",
   "metadata": {},
   "source": [
    "## Consulta de arcos adyacentes\n",
    "Operaciones que proporcionan información sobre los arcos adyacentes a un nodo."
   ]
  },
  {
   "cell_type": "code",
   "execution_count": 11,
   "metadata": {},
   "outputs": [],
   "source": [
    "def grado(grafo, nodo, salida=True):\n",
    "    \"\"\"\n",
    "    Devuelve el grado de salida o entrada de un nodo del grafo.\n",
    "    Estos grados son el número de arcos que salen o llegan al nodo.\n",
    "    \"\"\"\n",
    "   \n",
    "    if salida == True:\n",
    "        if nodo not in grafo:\n",
    "            return 0\n",
    "        return len(grafo[nodo].items())\n",
    "    \n",
    "    if salida == False:\n",
    "        contador = 0\n",
    "        \n",
    "        for salidas in grafo.values():\n",
    "            if nodo in salidas:\n",
    "                contador += 1\n",
    "    \n",
    "        return contador\n",
    "\n",
    "\n",
    "def pesos_adyacentes(grafo, nodo, salida=True):\n",
    "    \"\"\"\n",
    "    Devuelve la suma de los pesos de los arcos adyacentes al nodo, \n",
    "    de salida o entrada.\n",
    "    \"\"\"\n",
    "    pesoFinal = 0\n",
    "    if salida == True:\n",
    "        if nodo not in grafo:\n",
    "            return 0\n",
    "        for peso in grafo[nodo].values():\n",
    "            pesoFinal += peso\n",
    "        \n",
    "    \n",
    "    if salida == False:\n",
    "        for salidas in grafo.values():\n",
    "            if nodo in salidas:\n",
    "                pesoFinal += salidas[nodo]\n",
    "    \n",
    "    return pesoFinal"
   ]
  },
  {
   "cell_type": "markdown",
   "metadata": {},
   "source": [
    "### Tests para las operaciones sobre arcos adyacentes"
   ]
  },
  {
   "cell_type": "code",
   "execution_count": 12,
   "metadata": {},
   "outputs": [],
   "source": [
    "class TestArcosAdyacentes(unittest.TestCase):\n",
    "    \n",
    "    def tests_grado_grafo_de_ejemplo(self):\n",
    "        g = grafo_de_ejemplo()\n",
    "        \n",
    "        for nodo, grado_salida, grado_entrada in (\n",
    "                ('a', 2, 2), ('b', 2, 2), ('c', 2, 1), ('d', 0, 1)\n",
    "            \n",
    "        ):\n",
    "            self.assertEqual(grado(g, nodo), grado_salida)\n",
    "            self.assertEqual(grado(g, nodo, salida=False), grado_entrada)\n",
    "\n",
    "    def tests_pesos_grafo_de_ejemplo(self):\n",
    "        g = grafo_de_ejemplo()\n",
    "        \n",
    "        for nodo, pesos_salida, pesos_entrada in (\n",
    "                ('a', 3, 8), ('b', 9, 3), ('c', 7, 2), ('d', 0, 6)\n",
    "            \n",
    "        ):\n",
    "            self.assertEqual(pesos_adyacentes(g, nodo), pesos_salida)\n",
    "            self.assertEqual(pesos_adyacentes(g, nodo, salida=False),\n",
    "                             pesos_entrada)"
   ]
  },
  {
   "cell_type": "markdown",
   "metadata": {},
   "source": [
    "## Consulta de caminos"
   ]
  },
  {
   "cell_type": "code",
   "execution_count": 13,
   "metadata": {},
   "outputs": [],
   "source": [
    "def coste_camino(grafo, camino):\n",
    "    \"\"\"\n",
    "    Devuelve el coste del camino en el grafo.\n",
    "    El camino viene dado como una secuencia de nodos.\n",
    "    Si esa secuencia no forma un camino, devuelve None.\n",
    "    \"\"\"\n",
    "    coste = 0\n",
    "    for elemento in range(len(camino)-1):\n",
    "        costeArco = arco(grafo,camino[elemento],camino[elemento+1])\n",
    "        if costeArco == None:\n",
    "            return None\n",
    "        else:\n",
    "            coste += costeArco\n",
    "    return coste\n",
    "    "
   ]
  },
  {
   "cell_type": "markdown",
   "metadata": {},
   "source": [
    "### Tests para la consulta de caminos"
   ]
  },
  {
   "cell_type": "code",
   "execution_count": 14,
   "metadata": {},
   "outputs": [],
   "source": [
    "class TestCosteCamino(unittest.TestCase):\n",
    "    \n",
    "    def tests_grafo_de_ejemplo(self):\n",
    "        g = grafo_de_ejemplo()\n",
    "        \n",
    "        for camino, coste in (\n",
    "            (('a', 'b', 'd'), 7),           \n",
    "            (('b', 'a', 'c', 'a'), 10),\n",
    "            (('a', 'c', 'a', 'b', 'a'), 11), \n",
    "            (('a', 'b', 'd', 'c'), None),       \n",
    "            (('c', 'a', 'b', 'c'), None)    \n",
    "        ):\n",
    "            self.assertEqual(coste_camino(g, camino), coste)"
   ]
  },
  {
   "cell_type": "markdown",
   "metadata": {},
   "source": [
    "## Recorrido en profundidad\n",
    "Función para realizar un [recorrido en profundidad](https://youtu.be/oV-edUaj3_A) del grafo."
   ]
  },
  {
   "cell_type": "code",
   "execution_count": 15,
   "metadata": {},
   "outputs": [],
   "source": [
    "def recorrido_en_profundidad(grafo, inicio=None):\n",
    "    \"\"\"\n",
    "    Genera los nodos que forman el recorrido en profundidad.\n",
    "    El recorrido empieza en el nodo inicio.\n",
    "    Si no se indica un nodo de inicio (o es None), se empieza por el menor nodo.\n",
    "    Los vecinos de un nodo deben recorrerse en orden ascendente.\n",
    "    \"\"\"\n",
    "    if inicio == None:\n",
    "        #Si no nos pasan inicio, sacamos las claves(nodos) del diccionario, y cogemos la primera\n",
    "        aux = [*grafo]\n",
    "        inicio = aux[0]\n",
    "        \n",
    "    abiertos = [inicio]\n",
    "    cerrados = []\n",
    "    auxiliar = []\n",
    "    \n",
    "    while len(abiertos)!=0:\n",
    "        #Sacamos de abiertos y metemos en cerrados\n",
    "        nodo = abiertos.pop(0)\n",
    "        cerrados.append(nodo)\n",
    "        \n",
    "        \n",
    "        auxiliar = []\n",
    "        \n",
    "        #Miramos cada vecino\n",
    "        if nodo in grafo:\n",
    "            for vecino in grafo[nodo].keys():\n",
    "                #Si no hemos pasado ya por el vecino, ni lo tenemos pendiente en abiertos lo guardamos en una lista aux\n",
    "                if vecino not in abiertos and vecino not in cerrados:\n",
    "                    auxiliar.append(vecino)\n",
    "\n",
    "            #Damos la vuelta a la lista auxiliar, para que al meterlos al principio de abiertos uno a uno acaben en orden\n",
    "            auxiliar = auxiliar[::-1]\n",
    "            for encontrado in auxiliar:        \n",
    "                abiertos.insert(0,encontrado)\n",
    "\n",
    "    return cerrados"
   ]
  },
  {
   "cell_type": "markdown",
   "metadata": {},
   "source": [
    "### Tests para el recorrido en profundidad"
   ]
  },
  {
   "cell_type": "code",
   "execution_count": 16,
   "metadata": {},
   "outputs": [],
   "source": [
    "class TestProfundidad(unittest.TestCase):\n",
    "    \n",
    "    def tests_grafo_de_ejemplo(self):\n",
    "        g = grafo_de_ejemplo()\n",
    "        \n",
    "        for inicio, recorrido in (\n",
    "                ('a', ['a', 'b', 'd', 'c']),\n",
    "                (None, ['a', 'b', 'd', 'c']),\n",
    "                ('b', ['b', 'a', 'c', 'd']),            \n",
    "                ('c', ['c', 'a', 'b', 'd']),            \n",
    "                ('d', ['d']),\n",
    "        ):\n",
    "            self.assertEqual(list(recorrido_en_profundidad(g, inicio)), \n",
    "                             recorrido)"
   ]
  },
  {
   "cell_type": "markdown",
   "metadata": {},
   "source": [
    "## Recorrido en anchura\n",
    "Función para realizar un [recorrido en anchura](https://youtu.be/w6SB5FWxIV4) del grafo."
   ]
  },
  {
   "cell_type": "code",
   "execution_count": 17,
   "metadata": {},
   "outputs": [],
   "source": [
    "def recorrido_en_anchura(grafo, inicio=None):\n",
    "    \"\"\"\n",
    "    Genera los nodos que forman el recorrido en anchura.\n",
    "    El recorrido empieza en el nodo inicio.\n",
    "    Si no se indica un nodo de inicio (o es None), se empieza por el menor nodo.\n",
    "    Los vecinos de un nodo deben recorrerse en orden ascendente.\n",
    "    \"\"\"\n",
    "    if inicio == None:\n",
    "        #Si no nos pasan inicio, sacamos las claves(nodos) del diccionario, y cogemos la primera\n",
    "        aux = [*grafo]\n",
    "        inicio = aux[0]\n",
    "        \n",
    "    abiertos = [inicio]\n",
    "    cerrados = []\n",
    "    \n",
    "    while len(abiertos) != 0:\n",
    "        #Sacamos de abiertos y metemos en cerrados\n",
    "        nodo = abiertos.pop(0)\n",
    "        cerrados.append(nodo)\n",
    "        \n",
    "        #Miramos cada vecino\n",
    "        if nodo in grafo:\n",
    "            for vecino in grafo[nodo].keys():\n",
    "                #Si no hemos pasado ya por el, ni lo tenemos pendiente en abiertos, lo añadimos a abiertos\n",
    "                if vecino not in abiertos and vecino not in cerrados:\n",
    "                    abiertos.append(vecino)\n",
    "    \n",
    "    return cerrados"
   ]
  },
  {
   "cell_type": "markdown",
   "metadata": {},
   "source": [
    "### Tests para el recorrido en anchura"
   ]
  },
  {
   "cell_type": "code",
   "execution_count": 18,
   "metadata": {},
   "outputs": [],
   "source": [
    "class TestAnchura(unittest.TestCase):\n",
    "    \n",
    "    def tests_grafo_de_ejemplo(self):\n",
    "        g = grafo_de_ejemplo()\n",
    "        \n",
    "        for inicio, recorrido in (\n",
    "                ('a', ['a', 'b', 'c', 'd']),\n",
    "                (None, ['a', 'b', 'c', 'd']),\n",
    "                ('b', ['b', 'a', 'd', 'c']),            \n",
    "                ('c', ['c', 'a', 'b', 'd']),            \n",
    "                ('d', ['d']),\n",
    "        ):\n",
    "            self.assertEqual(list(recorrido_en_anchura(g, inicio)), \n",
    "                             recorrido)"
   ]
  },
  {
   "cell_type": "markdown",
   "metadata": {},
   "source": [
    "## Grafos lineales\n",
    "Se crea una función que construye grafos lineales para realizar tests sobre ellos. En un grafo lineal los nodos se organizan en una línea, cada uno tiene un arco al siguiente."
   ]
  },
  {
   "cell_type": "code",
   "execution_count": 19,
   "metadata": {},
   "outputs": [],
   "source": [
    "def grafo_lineal(num_nodos=10):\n",
    "    \"\"\"\n",
    "    Función que crea un grafo lineal con el número de nodos indicado.\n",
    "    \"\"\"\n",
    "    g = {}\n",
    "    \n",
    "    for n in range(num_nodos - 1):\n",
    "        inserta_arco(g, n, n + 1)\n",
    "        \n",
    "    return g"
   ]
  },
  {
   "cell_type": "markdown",
   "metadata": {},
   "source": [
    "### Dibujo de un grafo lineal"
   ]
  },
  {
   "cell_type": "code",
   "execution_count": 20,
   "metadata": {},
   "outputs": [
    {
     "data": {
      "image/png": "[encoded data removed]",
      "text/plain": [
       "<Figure size 432x288 with 1 Axes>"
      ]
     },
     "metadata": {},
     "output_type": "display_data"
    }
   ],
   "source": [
    "dibuja_grafo(grafo_lineal())   "
   ]
  },
  {
   "cell_type": "markdown",
   "metadata": {},
   "source": [
    "### Tests sobre grafos lineales"
   ]
  },
  {
   "cell_type": "code",
   "execution_count": 21,
   "metadata": {},
   "outputs": [],
   "source": [
    "class TestGrafoLineal(unittest.TestCase):\n",
    "    \n",
    "    def setUp(self):\n",
    "        self.numero_nodos = 20\n",
    "        self.grafo = grafo_lineal(self.numero_nodos)\n",
    "        \n",
    "    def test_consultas_basicas(self):\n",
    "        self.assertEqual(numero_nodos(self.grafo), self.numero_nodos)\n",
    "        self.assertEqual(numero_arcos(self.grafo), self.numero_nodos - 1)\n",
    "        self.assertEqual(peso_total(self.grafo), self.numero_nodos - 1)\n",
    "        for i in range(self.numero_nodos - 1):\n",
    "            self.assertEqual(arco(self.grafo, i, i + 1), 1)\n",
    "        for i in range(self.numero_nodos - 2):\n",
    "            self.assertIsNone(arco(self.grafo, i, i + 2))\n",
    "            \n",
    "    def test_arcos_adyacentes(self):\n",
    "        for funcion in grado, pesos_adyacentes:\n",
    "            self.assertEqual(funcion(self.grafo, self.numero_nodos - 1), 0)\n",
    "            self.assertEqual(funcion(self.grafo, 0, salida=False), 0)\n",
    "            for i in range(self.numero_nodos - 1):\n",
    "                self.assertEqual(funcion(self.grafo, i), 1)\n",
    "                self.assertEqual(funcion(self.grafo, i + 1, salida=False), 1)\n",
    "                \n",
    "    def test_consulta_caminos(self):\n",
    "        camino = [0]\n",
    "        for i in range(1, self.numero_nodos):\n",
    "            camino.append(i)\n",
    "            self.assertEqual(coste_camino(self.grafo, camino), i)\n",
    "            \n",
    "    def test_profundidad(self):\n",
    "        self.assertEqual(\n",
    "            list(recorrido_en_profundidad(self.grafo, self.numero_nodos - 1)), \n",
    "            [self.numero_nodos - 1])\n",
    "        self.assertEqual(list(recorrido_en_profundidad(self.grafo, 0)), \n",
    "                         [i for i in range(self.numero_nodos)])\n",
    "                \n",
    "    def test_anchura(self):\n",
    "        self.assertEqual(\n",
    "            list(recorrido_en_anchura(self.grafo, self.numero_nodos - 1)), \n",
    "            [self.numero_nodos - 1])\n",
    "        self.assertEqual(list(recorrido_en_anchura(self.grafo, 0)),\n",
    "                         [i for i in range(self.numero_nodos)])        "
   ]
  },
  {
   "cell_type": "markdown",
   "metadata": {},
   "source": [
    "## Grafos en rejilla\n",
    "Se crea una función que construye grafos en rejilla para realizar tests sobre ellos. "
   ]
  },
  {
   "cell_type": "code",
   "execution_count": 22,
   "metadata": {},
   "outputs": [],
   "source": [
    "def grafo_en_rejilla(num_filas=3, num_columnas=4):\n",
    "    \"\"\"\n",
    "    Función que crea un grafo lineal con el número de nodos indicado.\n",
    "    \"\"\"\n",
    "    g = {}\n",
    "    \n",
    "    nodo = 0\n",
    "    for fila in range(num_filas):\n",
    "        for columna in range(num_columnas - 1):\n",
    "            inserta_arco(g, nodo, nodo + 1)\n",
    "            nodo += 1\n",
    "        nodo += 1\n",
    "        \n",
    "    nodo = 0\n",
    "    for fila in range(num_filas - 1):\n",
    "        for columna in range(num_columnas):\n",
    "            inserta_arco(g, nodo, nodo + num_columnas)\n",
    "            nodo += 1\n",
    "        \n",
    "    return g"
   ]
  },
  {
   "cell_type": "markdown",
   "metadata": {},
   "source": [
    "### Dibujo de grafos en rejilla"
   ]
  },
  {
   "cell_type": "code",
   "execution_count": 23,
   "metadata": {},
   "outputs": [
    {
     "data": {
      "image/png": "[encoded data removed]",
      "text/plain": [
       "<Figure size 432x288 with 1 Axes>"
      ]
     },
     "metadata": {},
     "output_type": "display_data"
    }
   ],
   "source": [
    "dibuja_grafo(grafo_en_rejilla(3, 3))   "
   ]
  },
  {
   "cell_type": "code",
   "execution_count": 24,
   "metadata": {},
   "outputs": [
    {
     "data": {
      "image/png": "[encoded data removed]",
      "text/plain": [
       "<Figure size 432x288 with 1 Axes>"
      ]
     },
     "metadata": {},
     "output_type": "display_data"
    }
   ],
   "source": [
    "filas, columnas = 3, 5\n",
    "coordenadas = {i: (i % columnas, i // columnas) for i in range(filas * columnas)}\n",
    "dibuja_grafo(grafo_en_rejilla(filas, columnas), coordenadas=coordenadas)   "
   ]
  },
  {
   "cell_type": "markdown",
   "metadata": {},
   "source": [
    "### Tests sobre grafos en rejilla"
   ]
  },
  {
   "cell_type": "code",
   "execution_count": 25,
   "metadata": {},
   "outputs": [],
   "source": [
    "class TestGrafoEnRejilla(unittest.TestCase):\n",
    "    def setUp(self):\n",
    "        self.filas, self.columnas = 5, 7\n",
    "        self.numero_nodos = self.filas * self.columnas\n",
    "        self.numero_arcos = 2 * self.filas * self.columnas - self.filas - self.columnas\n",
    "        self.grafo = grafo_en_rejilla(self.filas, self.columnas)\n",
    "\n",
    "    def test_consultas_basicas(self):\n",
    "        self.assertEqual(numero_nodos(self.grafo), self.numero_nodos)\n",
    "        self.assertEqual(numero_arcos(self.grafo), self.numero_arcos)\n",
    "        self.assertEqual(peso_total(self.grafo), self.numero_arcos)\n",
    "\n",
    "        nodo = 0\n",
    "        for fila in range(self.filas):\n",
    "            for columna in range(self.columnas - 1):\n",
    "                self.assertEqual(arco(self.grafo, nodo, nodo + 1), 1)\n",
    "                self.assertIsNone(arco(self.grafo, nodo + 1, nodo))\n",
    "                nodo += 1\n",
    "            nodo += 1\n",
    "\n",
    "        nodo = 0\n",
    "        for fila in range(self.filas - 1):\n",
    "            for columna in range(self.columnas):\n",
    "                self.assertEqual(arco(self.grafo, nodo, nodo + self.columnas),\n",
    "                                 1)\n",
    "                self.assertIsNone(arco(self.grafo, nodo + self.columnas, nodo))\n",
    "                nodo += 1\n",
    "\n",
    "    def test_arcos_adyacentes(self):\n",
    "        for funcion in grado, pesos_adyacentes:\n",
    "            nodo = 0\n",
    "            for fila in range(self.filas):\n",
    "                for columna in range(self.columnas):\n",
    "                    grado_salida = 2\n",
    "                    if fila == self.filas - 1:\n",
    "                        grado_salida -= 1\n",
    "                    if columna == self.columnas - 1:\n",
    "                        grado_salida -= 1\n",
    "                    self.assertEqual(funcion(self.grafo, nodo), grado_salida)\n",
    "\n",
    "                    grado_entrada = 2\n",
    "                    if fila == 0:\n",
    "                        grado_entrada -= 1\n",
    "                    if columna == 0:\n",
    "                        grado_entrada -= 1\n",
    "                    self.assertEqual(funcion(self.grafo, nodo, salida=False),\n",
    "                                     grado_entrada)\n",
    "\n",
    "                    nodo += 1\n",
    "\n",
    "    def test_consulta_caminos(self):\n",
    "        camino = list(range(self.columnas - 1)) + \\\n",
    "                 [i * self.columnas - 1 for i in range(1, self.filas + 1)]\n",
    "        self.assertEqual(coste_camino(self.grafo, camino), len(camino) - 1)\n",
    "\n",
    "        camino = [i * self.columnas for i in range(self.filas - 1)] + \\\n",
    "            list(range(self.numero_nodos - self.columnas, self.numero_nodos))\n",
    "                 \n",
    "        self.assertEqual(coste_camino(self.grafo, camino), len(camino) - 1)\n",
    "\n",
    "    def test_profundidad(self):\n",
    "        recorrido = list(range(self.columnas - 1))\n",
    "        recorrido += range(self.columnas - 1, self.numero_nodos, self.columnas)\n",
    "        for j in range(self.columnas - 1, 0, - 1):\n",
    "            for i in range(1, self.filas):\n",
    "                recorrido.append(i * self.columnas + j - 1)\n",
    "        self.assertEqual(\n",
    "            list(recorrido_en_profundidad(self.grafo, 0)),\n",
    "            recorrido)\n",
    "\n",
    "    def test_anchura(self):\n",
    "        recorrido = []\n",
    "        for diagonal in range(self.columnas + self.filas - 1):\n",
    "            i = 0\n",
    "            j = diagonal\n",
    "            if j >= self.columnas:\n",
    "                i = j - self.columnas + 1\n",
    "                j = self.columnas - 1\n",
    "            while j >= 0 and i < self.filas:               \n",
    "                recorrido.append(i * self.columnas + j)\n",
    "                i += 1\n",
    "                j -= 1\n",
    "        self.assertEqual(\n",
    "            list(recorrido_en_anchura(self.grafo, 0)),\n",
    "            recorrido)"
   ]
  },
  {
   "cell_type": "markdown",
   "metadata": {},
   "source": [
    "## Ejecución de tests"
   ]
  },
  {
   "cell_type": "code",
   "execution_count": 26,
   "metadata": {},
   "outputs": [
    {
     "name": "stderr",
     "output_type": "stream",
     "text": [
      "..................\n",
      "----------------------------------------------------------------------\n",
      "Ran 18 tests in 0.027s\n",
      "\n",
      "OK\n"
     ]
    }
   ],
   "source": [
    "if __name__ == '__main__':\n",
    "    unittest.main(argv=['first-arg-is-ignored'], exit=False)"
   ]
  },
  {
   "cell_type": "code",
   "execution_count": null,
   "metadata": {},
   "outputs": [],
   "source": []
  },
  {
   "cell_type": "code",
   "execution_count": null,
   "metadata": {},
   "outputs": [],
   "source": []
  }
 ],
 "metadata": {
  "kernelspec": {
   "display_name": "Python 3",
   "language": "python",
   "name": "python3"
  },
  "language_info": {
   "codemirror_mode": {
    "name": "ipython",
    "version": 3
   },
   "file_extension": ".py",
   "mimetype": "text/x-python",
   "name": "python",
   "nbconvert_exporter": "python",
   "pygments_lexer": "ipython3",
   "version": "3.8.5"
  }
 },
 "nbformat": 4,
 "nbformat_minor": 1
}
